{
 "cells": [
  {
   "cell_type": "markdown",
   "id": "0",
   "metadata": {},
   "source": [
    "# Multimodal\n",
    "\n",
    "This notebook demonstrates a basic multimodal pipeline using a LLaVA (Large Language and Vision Assistant) model to generate a textual description of an image.\n",
    "\n",
    "A key aspect of this setup is the two-part model loading process. The primary file is the Large Language Model, while the CLIP model (mmproj-model-f16.gguf) acts as a vision encoder. The Llava16ChatHandler uses this CLIP model to \"see\" the image and translate its visual features into a special format that the language model can understand.\n",
    "\n",
    "To process an image, we first convert it into a base64-encoded string, which allows us to embed the image data directly into the chat message alongside a text prompt. Finally, we send this combined prompt, containing both the image and a question (e.g., \"Describe what is in this image.\"), to the model. The LLaVA model then processes both the visual and textual information to generate its descriptive response."
   ]
  },
  {
   "cell_type": "code",
   "execution_count": null,
   "id": "1",
   "metadata": {},
   "outputs": [],
   "source": [
    "import base64\n",
    "from io import BytesIO\n",
    "from pathlib import Path\n",
    "\n",
    "from PIL import Image\n",
    "\n",
    "from llama_cpp import Llama\n",
    "from llama_cpp.llama_chat_format import Llava16ChatHandler"
   ]
  },
  {
   "cell_type": "code",
   "execution_count": null,
   "id": "2",
   "metadata": {},
   "outputs": [],
   "source": [
    "MODEL_ROOT = Path(\"../llama-cpp-python/models\")\n",
    "assert MODEL_ROOT.exists()\n",
    "DATA_ROOT = Path(\"../data\")\n",
    "assert DATA_ROOT.exists()"
   ]
  },
  {
   "cell_type": "code",
   "execution_count": null,
   "id": "3",
   "metadata": {},
   "outputs": [],
   "source": [
    "MULTIMODAL_MODEL_ROOT = MODEL_ROOT / \"multimodal\"\n",
    "assert MULTIMODAL_MODEL_ROOT.exists()\n",
    "TEXT_GEN_MODEL_ROOT = MODEL_ROOT / \"text_gen\"\n",
    "assert TEXT_GEN_MODEL_ROOT.exists()"
   ]
  },
  {
   "cell_type": "code",
   "execution_count": null,
   "id": "4",
   "metadata": {},
   "outputs": [],
   "source": [
    "# --- 1. Configuration ---\n",
    "LLAVA_MODEL_PATH = MULTIMODAL_MODEL_ROOT / \"llava/llava-v1.6-mistral-7b.Q4_K_M.gguf\"\n",
    "LLAVA_CLIP_MODEL_PATH = MULTIMODAL_MODEL_ROOT / \"llava/llava-v1.6-mistral-7b-mmproj-model-f16.gguf\"\n",
    "IMAGE_PATH = DATA_ROOT / \"image/cat.jpg\"\n",
    "\n",
    "# --- 2. Model Loading ---\n",
    "def load_models():\n",
    "    \"\"\"Loads the LLaVA and standard LLM models.\"\"\"\n",
    "    print(\"Loading LLaVA model for vision analysis...\")\n",
    "    chat_handler = Llava16ChatHandler(clip_model_path=str(LLAVA_CLIP_MODEL_PATH), verbose=True)\n",
    "\n",
    "    llava_model = Llama(\n",
    "        model_path=str(LLAVA_MODEL_PATH),\n",
    "        chat_handler=chat_handler,\n",
    "        n_ctx=4096,      # LLaVA 1.6 can handle larger context\n",
    "        n_gpu_layers=31,\n",
    "        verbose=True\n",
    "    )\n",
    "    \n",
    "    print(\"Model loaded successfully.\")\n",
    "    return llava_model\n",
    "\n",
    "def pil_to_base64(image):\n",
    "    \"\"\"Converts a PIL Image to a base64 encoded string.\"\"\"\n",
    "    buffered = BytesIO()\n",
    "    image.save(buffered, format=\"PNG\")\n",
    "    return base64.b64encode(buffered.getvalue()).decode('utf-8')\n",
    "\n",
    "# --- 4. Core AI Functions ---\n",
    "def describe_frame(llava, image):\n",
    "    \"\"\"Uses LLaVA to generate a textual description of an image.\"\"\"\n",
    "    b64_image = pil_to_base64(image)\n",
    "    chat_message = [\n",
    "        {\"role\": \"user\", \"content\": [\n",
    "            {\"type\": \"image_url\", \"image_url\": {\"url\": f\"data:image/png;base64,{b64_image}\"}},\n",
    "            {\"type\": \"text\", \"content\": \"Describe what is in this image.\"}\n",
    "        ]}\n",
    "    ]\n",
    "    \n",
    "    response = llava.create_chat_completion(messages=chat_message, max_tokens=256)\n",
    "    return response['choices'][0]['message']['content']"
   ]
  },
  {
   "cell_type": "markdown",
   "id": "5",
   "metadata": {},
   "source": [
    "# Main Pipeline"
   ]
  },
  {
   "cell_type": "code",
   "execution_count": null,
   "id": "6",
   "metadata": {},
   "outputs": [],
   "source": [
    "llava_model = load_models()"
   ]
  },
  {
   "cell_type": "code",
   "execution_count": null,
   "id": "7",
   "metadata": {},
   "outputs": [],
   "source": [
    "frame = Image.open(IMAGE_PATH)\n",
    "response = describe_frame(llava_model, frame)\n",
    "print(\"\\n\\n Response:\")\n",
    "print(response)"
   ]
  },
  {
   "cell_type": "code",
   "execution_count": null,
   "id": "8",
   "metadata": {},
   "outputs": [],
   "source": []
  }
 ],
 "metadata": {
  "kernelspec": {
   "display_name": "Python 3 (My Project)",
   "language": "python",
   "name": "my-project-venv"
  },
  "language_info": {
   "codemirror_mode": {
    "name": "ipython",
    "version": 3
   },
   "file_extension": ".py",
   "mimetype": "text/x-python",
   "name": "python",
   "nbconvert_exporter": "python",
   "pygments_lexer": "ipython3",
   "version": "3.13.2"
  }
 },
 "nbformat": 4,
 "nbformat_minor": 5
}
